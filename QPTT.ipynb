{
 "cells": [
  {
   "cell_type": "markdown",
   "metadata": {},
   "source": [
    "# Quantum Programs Testing Tool"
   ]
  },
  {
   "cell_type": "markdown",
   "metadata": {},
   "source": [
    "En este proyecto presentamos una herramienta que recibe un circuito cuántico, un valor inicial para los qubits de entrada (llamado input) y una distribución de resultados esperada (llamado oráculo). El programa procesa el input para crear un valor inicial para todos los qubits del programa cuántico, ejecuta dicho programa múltiples veces para obtener una distribución de resultados (llamada output), y finalmente comparar el output y el oráculo, con métodos estadísticos, para determinar si ambas distribuciones son equivalentes."
   ]
  },
  {
   "cell_type": "markdown",
   "metadata": {},
   "source": [
    "Para realizar dicho trabajo, primero importamos las librerías necesarias."
   ]
  },
  {
   "cell_type": "code",
   "execution_count": 336,
   "metadata": {},
   "outputs": [],
   "source": [
    "import numpy as np\n",
    "import scipy.stats as st\n",
    "%matplotlib inline\n",
    "\n",
    "# Importing standard Qiskit libraries\n",
    "from qiskit import QuantumCircuit, QuantumRegister, ClassicalRegister, transpile, Aer, IBMQ, execute\n",
    "from qiskit.tools.jupyter import *\n",
    "from qiskit.visualization import *\n",
    "#from ibm_quantum_widgets import *\n",
    "from qiskit.providers.aer import QasmSimulator\n",
    "from qiskit.tools.visualization import plot_histogram\n",
    "\n",
    "# Loading your IBM Quantum account(s)\n",
    "#provider = IBMQ.load_account()"
   ]
  },
  {
   "cell_type": "markdown",
   "metadata": {},
   "source": [
    "A continuación creamos funciones que nos devolverán los circuitos cuánticos (QC) que serán los programas cuánticos que vamos a testear."
   ]
  },
  {
   "cell_type": "code",
   "execution_count": 337,
   "metadata": {},
   "outputs": [],
   "source": [
    "def qc1():\n",
    "    \n",
    "    input_qubit = QuantumRegister(2, 'input_qubit')\n",
    "    output_qubit = QuantumRegister(1, 'output_qubit')\n",
    "    c = ClassicalRegister(1, 'c')\n",
    "    qc = QuantumCircuit(input_qubit, output_qubit, c)\n",
    "    # Implementation statements\n",
    "    qc.h(output_qubit)\n",
    "    qc.cswap(output_qubit, input_qubit[0], input_qubit[1])\n",
    "    qc.h(output_qubit)\n",
    "    qc.x(output_qubit)\n",
    "    qc.measure(output_qubit, c)\n",
    "    \n",
    "    return qc"
   ]
  },
  {
   "cell_type": "code",
   "execution_count": 338,
   "metadata": {},
   "outputs": [],
   "source": [
    "def qc2():\n",
    "    \n",
    "    input_qubit = QuantumRegister(2, 'input_qubit')\n",
    "    output_qubit = QuantumRegister(1, 'output_qubit')\n",
    "    c = ClassicalRegister(1, 'c')\n",
    "    qc = QuantumCircuit(input_qubit, output_qubit, c)\n",
    "    # Implementation statements\n",
    "    qc.ccx(input_qubit[0], input_qubit[1], output_qubit)\n",
    "    qc.measure(output_qubit, c)\n",
    "    \n",
    "    return qc"
   ]
  },
  {
   "cell_type": "markdown",
   "metadata": {},
   "source": [
    "La siguiente función genera automáticamente un array con los inputs a testear. Tiene dos modos:\n",
    "- En el modo auto genera todos los posibles inputs del programa.\n",
    "- En el modo custom genera sólo los imputs incluidos en la test_list."
   ]
  },
  {
   "cell_type": "code",
   "execution_count": 339,
   "metadata": {},
   "outputs": [],
   "source": [
    "#Función test_input_generator\n",
    "#INPUTS: num_input_qubits: int, mode: string, test_list: array of ints\n",
    "#OUTPUTS: input_array: array of arrays of ints\n",
    "def test_input_generator(num_input_qubits=0, mode=\"auto\", test_list=[]):\n",
    "\n",
    "    input_array = []\n",
    "    \n",
    "    if mode == \"auto\":\n",
    "        for i in range(2**num_input_qubits):\n",
    "            bin_array = [int(x) for x in list('{0:{fill}{width}b}'.format(i, fill=0, width=num_input_qubits))]\n",
    "            input_array.append(bin_array)\n",
    "    elif mode == \"custom\":\n",
    "        for i in test_list:\n",
    "            bin_array = [int(x) for x in list('{0:{fill}{width}b}'.format(i, fill=0, width=num_input_qubits))]\n",
    "            input_array.append(bin_array)\n",
    "        \n",
    "    return input_array"
   ]
  },
  {
   "cell_type": "markdown",
   "metadata": {},
   "source": [
    "A continuación definimos dos funciones que generan el circuito necesario para generar la entrada selecionada:\n",
    "- iqc_individual: genera el circuito que define un input poniendo los qubits necesarios a 1.\n",
    "- iqc_superposition: genera el circuito que define la superposición de todos los posibles inputs."
   ]
  },
  {
   "cell_type": "code",
   "execution_count": 340,
   "metadata": {},
   "outputs": [],
   "source": [
    "#Función iqc_individual\n",
    "#INPUTS: value: array of ints, num_total_qubits: int, num_cl_bits: int\n",
    "#OUTPUTS: qc: QuantumCircuit\n",
    "def iqc_individual(value=[], num_total_qubits=0, num_cl_bits=0):\n",
    "\n",
    "    num_input_qubits = len(value)\n",
    "    \n",
    "    qr = QuantumRegister(num_total_qubits)\n",
    "    cr = ClassicalRegister(num_cl_bits)\n",
    "    \n",
    "    qc = QuantumCircuit(qr, cr)\n",
    "    \n",
    "    index = 0\n",
    "    \n",
    "    for bit in value:\n",
    "        if (bit == 1):\n",
    "            qc.x(index)\n",
    "        index += 1\n",
    "    \n",
    "    qc.barrier()\n",
    "    return qc"
   ]
  },
  {
   "cell_type": "code",
   "execution_count": 341,
   "metadata": {},
   "outputs": [],
   "source": [
    "#Función iqc_superposition\n",
    "#INPUTS: num_inputs: int, num_total_qubits: int, num_cl_bits: int\n",
    "#OUTPUTS: qc: QuantumCircuit\n",
    "def iqc_superposition(num_inputs=0, num_total_qubits=0, num_cl_bits=0):\n",
    "    \n",
    "    qr = QuantumRegister(num_total_qubits)\n",
    "    cr = ClassicalRegister(num_cl_bits)\n",
    "    \n",
    "    qc = QuantumCircuit(qr, cr)\n",
    "    \n",
    "    qc.barrier()\n",
    "    \n",
    "    index = 0\n",
    "    #qc.x(index)\n",
    "    #qc.x(index+1)\n",
    "    \n",
    "    for bit in range(num_inputs):\n",
    "        qc.h(index)\n",
    "        index += 1\n",
    "    \n",
    "    qc.barrier()\n",
    "    return qc"
   ]
  },
  {
   "cell_type": "markdown",
   "metadata": {},
   "source": [
    "La siguiente función testea el circuito. Para ello, primero compone el circuito de entrada con el circuito a testear, y a continuación ejecuta el circuito resultante *shots* veces. Finalmente, devuelve el histograma resultante."
   ]
  },
  {
   "cell_type": "code",
   "execution_count": 342,
   "metadata": {},
   "outputs": [],
   "source": [
    "#Función test_circuit\n",
    "#INPUTS: iqc: QuantumCircuit, qc: QuantumCircuit, shots: int\n",
    "#OUTPUTS: histogram: array of ints\n",
    "def test_circuit(iqc, qc,  shots=1024):\n",
    "    fqc = iqc.compose(qc)\n",
    "    \n",
    "    emulator = Aer.get_backend('qasm_simulator')\n",
    "    job = execute(fqc, emulator, shots=shots) \n",
    "\n",
    "    # The result is a histogram in the form of a dictionary.\n",
    "    histogram = job.result().get_counts()\n",
    "    #print ('results: ', histogram)\n",
    "\n",
    "    # plot histogram\n",
    "    #legend = ['Execution results']\n",
    "    #plot_histogram(histogram,legend=legend)\n",
    "    \n",
    "    return histogram"
   ]
  },
  {
   "cell_type": "markdown",
   "metadata": {},
   "source": [
    "La siguente función genera un oráculo para la superposición de los inputs a partir de los oráculos individuales para los distintos inputs."
   ]
  },
  {
   "cell_type": "code",
   "execution_count": 343,
   "metadata": {},
   "outputs": [],
   "source": [
    "#Función oracle_union\n",
    "#INPUTS: oracles: dict<string, dict<string, int>>\n",
    "#OUTPUTS: oracle: dict<string, int>\n",
    "def oracle_union(oracles):\n",
    "    oracle = {}\n",
    "    iters = 0\n",
    "    for key, value in oracles.items():\n",
    "        for k, v in value.items():\n",
    "            if k in oracle:\n",
    "                oracle[k] += v\n",
    "            else:\n",
    "                oracle[k] = v\n",
    "        iters += 1\n",
    "    for key, value in oracle.items():\n",
    "        oracle[key] = int(oracle[key]/iters) \n",
    "    return oracle"
   ]
  },
  {
   "cell_type": "markdown",
   "metadata": {},
   "source": [
    "A continuación definimos la función que compara dos distribuciones de probabilidad a través de sus definiciones frequentistas. Para ello usa el estadístico Chi Cuadrado de Pearson."
   ]
  },
  {
   "cell_type": "code",
   "execution_count": 344,
   "metadata": {},
   "outputs": [],
   "source": [
    "#Función chi_square\n",
    "#INPUTS: outputs: dict<string, int>, oracle: dict<string, int>\n",
    "#OUTPUTS: boolean\n",
    "def chi_square(outputs,oracle):\n",
    "    if len(oracle) > 1 and len(outputs) > 1:\n",
    "        alpha = 0.05\n",
    "        outputs = [outputs[key] for key in sorted(outputs.keys())]\n",
    "        oracle = [oracle[key] for key in sorted(oracle.keys())]\n",
    "        #outputs = outputs/np.sum(outputs)\n",
    "        #oracle = oracle/np.sum(oracle)\n",
    "        stat, pvalue = st.chisquare(outputs,oracle)\n",
    "        #print(\"H-value: \" + str(stat))\n",
    "        #print(\"p-value: \" + str(pvalue))\n",
    "        #print()\n",
    "        if pvalue > alpha:\n",
    "            #print('Dependent (reject H0)')\n",
    "            return True\n",
    "        else:\n",
    "            #print('Independent (fail to reject H0)')\n",
    "            return False\n",
    "    else:\n",
    "        if oracle.keys() == outputs.keys():\n",
    "            return True\n",
    "        else:\n",
    "            return False"
   ]
  },
  {
   "cell_type": "markdown",
   "metadata": {},
   "source": [
    "Finalmente, definimos la función principal que combina todas las anteriores para ejecutar el testeo automático del programa cuántico que reciba. Para ello, tiene dos modos:\n",
    "- Si se le pasa un conjunto de inputs a probar, testea el programa con esos inputs de forma secuencial, y compara los resultados obtenidos con sus respectivos oráculos.\n",
    "- Si no se le pasa un conjunto de inputs, testea la superposición de todos los inputs con respecto a la unión de los oráculos."
   ]
  },
  {
   "cell_type": "code",
   "execution_count": 345,
   "metadata": {},
   "outputs": [],
   "source": [
    "#Función QPTT\n",
    "#INPUTS: qc: QuantumCircuit, num_inputs: int, oracles: dict<string, dict<string, int>>, inputs_array: array of arrays of ints, shots: int\n",
    "#OUTPUTS: void\n",
    "def QPTT(qc, num_inputs, oracles, inputs_array=None, shots=1024):\n",
    "    \n",
    "    if inputs_array != None:\n",
    "        for inputs,oracle in zip(inputs_array,oracles.values()):\n",
    "            # Get total number of qubits and classical bits\n",
    "            num_total_qubits = qc.num_qubits\n",
    "            num_cl_bits = qc.width() - num_total_qubits\n",
    "\n",
    "            # Go through the test value array and execute the test\n",
    "            #for value in input_array:\n",
    "            #    print(value)\n",
    "            #    iqc = input_quantum_circuit(value=value, num_total_qubits=num_total_qubits, num_cl_bits=num_cl_bits)\n",
    "            #    test_circuit(iqc,qc)\n",
    "\n",
    "            iqc = iqc_individual(value=inputs, num_total_qubits=num_total_qubits, num_cl_bits=num_cl_bits)\n",
    "            outputs = test_circuit(iqc,qc,shots)\n",
    "            result = chi_square(outputs, oracle)\n",
    "            if result:\n",
    "                print(f\"Circuit passed evaluation for input {inputs}.\")\n",
    "            else:\n",
    "                print(f\"Circuit failed evaluation for input {inputs}! There is some error.\")\n",
    "                print(f\"Circuit returned {outputs}\")\n",
    "    else:\n",
    "        oracle = oracle_union(oracles)\n",
    "        # Get total number of qubits and classical bits\n",
    "        num_total_qubits = qc.num_qubits\n",
    "        num_cl_bits = qc.width() - num_total_qubits\n",
    "\n",
    "        # Go through the test value array and execute the test\n",
    "        #for value in input_array:\n",
    "        #    print(value)\n",
    "        #    iqc = input_quantum_circuit(value=value, num_total_qubits=num_total_qubits, num_cl_bits=num_cl_bits)\n",
    "        #    test_circuit(iqc,qc)\n",
    "\n",
    "        iqc = iqc_superposition(num_inputs=num_inputs, num_total_qubits=num_total_qubits, num_cl_bits=num_cl_bits)\n",
    "        outputs = test_circuit(iqc,qc,shots)\n",
    "        result = chi_square(outputs, oracle)\n",
    "        if result:\n",
    "            print(f\"Circuit passed evaluation.\")\n",
    "        else:\n",
    "            print(f\"Circuit failed evaluation! There is some error.\")\n",
    "            print(f\"Circuit returned {outputs}\")"
   ]
  },
  {
   "cell_type": "markdown",
   "metadata": {},
   "source": [
    "Para comprobar la efectividad de nuestra herramienta, presentamos varios ejemplos de su uso.\n",
    "\n",
    "El primer ejemplo es usando la herramienta para testear todos los posibles inputs del programa qc1:"
   ]
  },
  {
   "cell_type": "code",
   "execution_count": 346,
   "metadata": {},
   "outputs": [
    {
     "name": "stdout",
     "output_type": "stream",
     "text": [
      "Circuit passed evaluation for input [0, 0].\n",
      "Circuit passed evaluation for input [0, 1].\n",
      "Circuit failed evaluation for input [1, 0]! There is some error.\n",
      "Circuit returned {'0': 478, '1': 546}\n",
      "Circuit passed evaluation for input [1, 1].\n"
     ]
    }
   ],
   "source": [
    "input_array = test_input_generator(num_input_qubits=2, mode=\"auto\", test_list=[1])\n",
    "#print(input_array)\n",
    "\n",
    "# Instantiate the quantum circuit under test\n",
    "qc = qc1()\n",
    "\n",
    "oracle = {'00':{'1':1024},'01':{'0':512, '1':512},'10':{'0':512, '1':512},'11':{'1':1024}}\n",
    "\n",
    "QPTT(qc, 2, oracle, inputs_array=input_array)"
   ]
  },
  {
   "cell_type": "markdown",
   "metadata": {},
   "source": [
    "El segundo ejemplo es usando la herramienta para testear el input 1 (01) del programa qc1:"
   ]
  },
  {
   "cell_type": "code",
   "execution_count": 347,
   "metadata": {},
   "outputs": [
    {
     "name": "stdout",
     "output_type": "stream",
     "text": [
      "Circuit passed evaluation for input [0, 1].\n"
     ]
    }
   ],
   "source": [
    "input_array = test_input_generator(num_input_qubits=2, mode=\"custom\", test_list=[1])\n",
    "#print(input_array)\n",
    "\n",
    "# Instantiate the quantum circuit under test\n",
    "qc = qc1()\n",
    "\n",
    "oracle = {'01':{'0':512, '1':512}}\n",
    "\n",
    "QPTT(qc, 2, oracle, inputs_array=input_array)"
   ]
  },
  {
   "cell_type": "markdown",
   "metadata": {},
   "source": [
    "El tercer ejemplo es usando la herramienta para testear la superposición de los inputs del programa qc1:"
   ]
  },
  {
   "cell_type": "code",
   "execution_count": 348,
   "metadata": {},
   "outputs": [
    {
     "name": "stdout",
     "output_type": "stream",
     "text": [
      "Circuit failed evaluation! There is some error.\n",
      "Circuit returned {'1': 1024}\n"
     ]
    }
   ],
   "source": [
    "# Instantiate the quantum circuit under test\n",
    "qc = qc1()\n",
    "\n",
    "oracle = {'00':{'1':1024},'01':{'0':512, '1':512},'10':{'0':512, '1':512},'11':{'1':1024}}\n",
    "\n",
    "QPTT(qc, 2, oracle)"
   ]
  },
  {
   "cell_type": "markdown",
   "metadata": {},
   "source": [
    "Y finalmente el cuarto ejemplo es usando la herramienta para testear la superposición de los inputs del programa qc2:"
   ]
  },
  {
   "cell_type": "code",
   "execution_count": 349,
   "metadata": {},
   "outputs": [
    {
     "name": "stdout",
     "output_type": "stream",
     "text": [
      "Circuit passed evaluation.\n"
     ]
    }
   ],
   "source": [
    "# Instantiate the quantum circuit under test\n",
    "qc = qc2()\n",
    "\n",
    "oracle = {'00':{'0':1024},'01':{'0':1024},'10':{'0':1024},'11':{'1':1024}}\n",
    "\n",
    "QPTT(qc, 2, oracle)"
   ]
  },
  {
   "cell_type": "code",
   "execution_count": null,
   "metadata": {},
   "outputs": [],
   "source": []
  }
 ],
 "metadata": {
  "kernelspec": {
   "display_name": "Python 3",
   "language": "python",
   "name": "python3"
  },
  "language_info": {
   "codemirror_mode": {
    "name": "ipython",
    "version": 3
   },
   "file_extension": ".py",
   "mimetype": "text/x-python",
   "name": "python",
   "nbconvert_exporter": "python",
   "pygments_lexer": "ipython3",
   "version": "3.9.7"
  }
 },
 "nbformat": 4,
 "nbformat_minor": 4
}
